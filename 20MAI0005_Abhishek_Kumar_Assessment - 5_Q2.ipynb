{
 "cells": [
  {
   "cell_type": "markdown",
   "metadata": {},
   "source": [
    "# 20MAI0005\n",
    "# Abhishek Kumar\n",
    "# Implementing RNN with sequential data"
   ]
  },
  {
   "cell_type": "markdown",
   "metadata": {},
   "source": [
    "# 1. Data Preparation"
   ]
  },
  {
   "cell_type": "code",
   "execution_count": 1,
   "metadata": {},
   "outputs": [
    {
     "name": "stdout",
     "output_type": "stream",
     "text": [
      "Populating the interactive namespace from numpy and matplotlib\n"
     ]
    }
   ],
   "source": [
    "%pylab inline\n",
    "\n",
    "import math"
   ]
  },
  {
   "cell_type": "code",
   "execution_count": 2,
   "metadata": {},
   "outputs": [],
   "source": [
    "sin_wave = np.array([math.sin(x) for x in np.arange(200)])"
   ]
  },
  {
   "cell_type": "code",
   "execution_count": 3,
   "metadata": {},
   "outputs": [
    {
     "data": {
      "text/plain": [
       "[<matplotlib.lines.Line2D at 0x1e989a8d760>]"
      ]
     },
     "execution_count": 3,
     "metadata": {},
     "output_type": "execute_result"
    },
    {
     "data": {
      "image/png": "[encoded data removed]",
      "text/plain": [
       "<Figure size 432x288 with 1 Axes>"
      ]
     },
     "metadata": {
      "needs_background": "light"
     },
     "output_type": "display_data"
    }
   ],
   "source": [
    "plt.plot(sin_wave[:50])\n"
   ]
  },
  {
   "cell_type": "code",
   "execution_count": 4,
   "metadata": {},
   "outputs": [],
   "source": [
    "X = []\n",
    "Y = []\n",
    "\n",
    "seq_len = 50\n",
    "num_records = len(sin_wave) - seq_len\n",
    "\n",
    "for i in range(num_records - 50):\n",
    "    X.append(sin_wave[i:i+seq_len])\n",
    "    Y.append(sin_wave[i+seq_len])\n",
    "    \n",
    "X = np.array(X)\n",
    "X = np.expand_dims(X, axis=2)\n",
    "\n",
    "Y = np.array(Y)\n",
    "Y = np.expand_dims(Y, axis=1)"
   ]
  },
  {
   "cell_type": "code",
   "execution_count": 5,
   "metadata": {},
   "outputs": [
    {
     "data": {
      "text/plain": [
       "((100, 50, 1), (100, 1))"
      ]
     },
     "execution_count": 5,
     "metadata": {},
     "output_type": "execute_result"
    }
   ],
   "source": [
    "X.shape, Y.shape"
   ]
  },
  {
   "cell_type": "code",
   "execution_count": 6,
   "metadata": {},
   "outputs": [],
   "source": [
    "X_val = []\n",
    "Y_val = []\n",
    "\n",
    "for i in range(num_records - 50, num_records):\n",
    "    X_val.append(sin_wave[i:i+seq_len])\n",
    "    Y_val.append(sin_wave[i+seq_len])\n",
    "    \n",
    "X_val = np.array(X_val)\n",
    "X_val = np.expand_dims(X_val, axis=2)\n",
    "\n",
    "Y_val = np.array(Y_val)\n",
    "Y_val = np.expand_dims(Y_val, axis=1)"
   ]
  },
  {
   "cell_type": "markdown",
   "metadata": {},
   "source": [
    "# 2. Create the Architecture for our RNN model"
   ]
  },
  {
   "cell_type": "code",
   "execution_count": 7,
   "metadata": {},
   "outputs": [],
   "source": [
    "learning_rate = 0.0001    \n",
    "nepoch = 25               \n",
    "T = 50                   # length of sequence\n",
    "hidden_dim = 100         \n",
    "output_dim = 1\n",
    "\n",
    "bptt_truncate = 5\n",
    "min_clip_value = -10\n",
    "max_clip_value = 10"
   ]
  },
  {
   "cell_type": "code",
   "execution_count": 8,
   "metadata": {},
   "outputs": [],
   "source": [
    "U = np.random.uniform(0, 1, (hidden_dim, T))\n",
    "W = np.random.uniform(0, 1, (hidden_dim, hidden_dim))\n",
    "V = np.random.uniform(0, 1, (output_dim, hidden_dim))"
   ]
  },
  {
   "cell_type": "code",
   "execution_count": 9,
   "metadata": {},
   "outputs": [],
   "source": [
    "def sigmoid(x):\n",
    "    return 1 / (1 + np.exp(-x))"
   ]
  },
  {
   "cell_type": "markdown",
   "metadata": {},
   "source": [
    "# 3. Train the Model"
   ]
  },
  {
   "cell_type": "code",
   "execution_count": 10,
   "metadata": {},
   "outputs": [],
   "source": [
    "#3.1 Check the loss on the training data\n",
    "for epoch in range(nepoch):\n",
    "    # check loss on train\n",
    "    loss = 0.0\n",
    "    \n",
    "    # do a forward pass to get prediction\n",
    "    for i in range(Y.shape[0]):\n",
    "        x, y = X[i], Y[i]                    # get input, output values of each record\n",
    "        prev_s = np.zeros((hidden_dim, 1))   # here, prev-s is the value of the previous activation of hidden layer; which is initialized as all zeroes\n",
    "        for t in range(T):\n",
    "            new_input = np.zeros(x.shape)    # we then do a forward pass for every timestep in the sequence\n",
    "            new_input[t] = x[t]              # for this, we define a single input for that timestep\n",
    "            mulu = np.dot(U, new_input)\n",
    "            mulw = np.dot(W, prev_s)\n",
    "            add = mulw + mulu\n",
    "            s = sigmoid(add)\n",
    "            mulv = np.dot(V, s)\n",
    "            prev_s = s\n",
    "\n",
    "    # calculate error \n",
    "        loss_per_record = (y - mulv)**2 / 2\n",
    "        loss += loss_per_record\n",
    "    loss = loss / float(y.shape[0])"
   ]
  },
  {
   "cell_type": "code",
   "execution_count": 11,
   "metadata": {},
   "outputs": [
    {
     "name": "stdout",
     "output_type": "stream",
     "text": [
      "Epoch:  25 , Loss:  [[140898.62988913]] , Val Loss:  [[70447.22770925]]\n"
     ]
    }
   ],
   "source": [
    "# 3.2 Check the loss on validation data\n",
    "\n",
    "# check loss on val\n",
    "val_loss = 0.0\n",
    "for i in range(Y_val.shape[0]):\n",
    "    x, y = X_val[i], Y_val[i]\n",
    "    prev_s = np.zeros((hidden_dim, 1))\n",
    "    for t in range(T):\n",
    "        new_input = np.zeros(x.shape)\n",
    "        new_input[t] = x[t]\n",
    "        mulu = np.dot(U, new_input)\n",
    "        mulw = np.dot(W, prev_s)\n",
    "        add = mulw + mulu\n",
    "        s = sigmoid(add)\n",
    "        mulv = np.dot(V, s)\n",
    "        prev_s = s\n",
    "\n",
    "    loss_per_record = (y - mulv)**2 / 2\n",
    "    val_loss += loss_per_record\n",
    "val_loss = val_loss / float(y.shape[0])\n",
    "\n",
    "print('Epoch: ', epoch + 1, ', Loss: ', loss, ', Val Loss: ', val_loss)"
   ]
  },
  {
   "cell_type": "code",
   "execution_count": 12,
   "metadata": {},
   "outputs": [],
   "source": [
    "#3.3.1 Forward Pass\n",
    "\n",
    "# train model\n",
    "for i in range(Y.shape[0]):\n",
    "    x, y = X[i], Y[i]\n",
    "    \n",
    "    layers = []\n",
    "    prev_s = np.zeros((hidden_dim, 1))\n",
    "    dU = np.zeros(U.shape)\n",
    "    dV = np.zeros(V.shape)\n",
    "    dW = np.zeros(W.shape)\n",
    "        \n",
    "    dU_t = np.zeros(U.shape)\n",
    "    dV_t = np.zeros(V.shape)\n",
    "    dW_t = np.zeros(W.shape)\n",
    "        \n",
    "    dU_i = np.zeros(U.shape)\n",
    "    dW_i = np.zeros(W.shape)\n",
    "        \n",
    "    # forward pass\n",
    "    for t in range(T):\n",
    "        new_input = np.zeros(x.shape)\n",
    "        new_input[t] = x[t]\n",
    "        mulu = np.dot(U, new_input)\n",
    "        mulw = np.dot(W, prev_s)\n",
    "        add = mulw + mulu\n",
    "        s = sigmoid(add)\n",
    "        mulv = np.dot(V, s)\n",
    "        layers.append({'s':s, 'prev_s':prev_s})\n",
    "        prev_s = s"
   ]
  },
  {
   "cell_type": "code",
   "execution_count": 13,
   "metadata": {},
   "outputs": [],
   "source": [
    "#3.3.2 Back propogate error\n",
    "\n",
    "# derivative of pred\n",
    "dmulv = (mulv - y)\n",
    "        \n",
    "# backward pass\n",
    "for t in range(T):\n",
    "    dV_t = np.dot(dmulv, np.transpose(layers[t]['s']))\n",
    "    dsv = np.dot(np.transpose(V), dmulv)\n",
    "            \n",
    "    ds = dsv\n",
    "    dadd = add * (1 - add) * ds\n",
    "            \n",
    "    dmulw = dadd * np.ones_like(mulw)\n",
    "\n",
    "    dprev_s = np.dot(np.transpose(W), dmulw)\n",
    "\n",
    "\n",
    "    for i in range(t-1, max(-1, t-bptt_truncate-1), -1):\n",
    "        ds = dsv + dprev_s\n",
    "        dadd = add * (1 - add) * ds\n",
    "\n",
    "        dmulw = dadd * np.ones_like(mulw)\n",
    "        dmulu = dadd * np.ones_like(mulu)\n",
    "\n",
    "        dW_i = np.dot(W, layers[t]['prev_s'])\n",
    "        dprev_s = np.dot(np.transpose(W), dmulw)\n",
    "\n",
    "        new_input = np.zeros(x.shape)\n",
    "        new_input[t] = x[t]\n",
    "        dU_i = np.dot(U, new_input)\n",
    "        dx = np.dot(np.transpose(U), dmulu)\n",
    "\n",
    "        dU_t += dU_i\n",
    "        dW_t += dW_i\n",
    "                \n",
    "    dV += dV_t\n",
    "    dU += dU_t\n",
    "    dW += dW_t"
   ]
  },
  {
   "cell_type": "code",
   "execution_count": 14,
   "metadata": {},
   "outputs": [],
   "source": [
    "#3.3.3 Update Weights\n",
    "\n",
    "if dU.max() > max_clip_value:\n",
    "    dU[dU > max_clip_value] = max_clip_value\n",
    "if dV.max() > max_clip_value:\n",
    "    dV[dV > max_clip_value] = max_clip_value\n",
    "if dW.max() > max_clip_value:\n",
    "    dW[dW > max_clip_value] = max_clip_value\n",
    "                \n",
    "            \n",
    "if dU.min() < min_clip_value:\n",
    "    dU[dU < min_clip_value] = min_clip_value\n",
    "if dV.min() < min_clip_value:\n",
    "    dV[dV < min_clip_value] = min_clip_value\n",
    "if dW.min() < min_clip_value:\n",
    "    dW[dW < min_clip_value] = min_clip_value\n",
    "        \n",
    "# update\n",
    "U -= learning_rate * dU\n",
    "V -= learning_rate * dV\n",
    "W -= learning_rate * dW\n"
   ]
  },
  {
   "cell_type": "code",
   "execution_count": 15,
   "metadata": {},
   "outputs": [
    {
     "name": "stdout",
     "output_type": "stream",
     "text": [
      "Epoch:  25 , Loss:  [[140898.62988913]] , Val Loss:  [[70182.08214919]]\n"
     ]
    }
   ],
   "source": [
    "# Train Model\n",
    "\n",
    "# check loss on val\n",
    "val_loss = 0.0\n",
    "for i in range(Y_val.shape[0]):\n",
    "    x, y = X_val[i], Y_val[i]\n",
    "    prev_s = np.zeros((hidden_dim, 1))\n",
    "    for t in range(T):\n",
    "        new_input = np.zeros(x.shape)\n",
    "        new_input[t] = x[t]\n",
    "        mulu = np.dot(U, new_input)\n",
    "        mulw = np.dot(W, prev_s)\n",
    "        add = mulw + mulu\n",
    "        s = sigmoid(add)\n",
    "        mulv = np.dot(V, s)\n",
    "        prev_s = s\n",
    "\n",
    "        loss_per_record = (y - mulv)**2 / 2\n",
    "    val_loss += loss_per_record\n",
    "val_loss = val_loss / float(y.shape[0])\n",
    "\n",
    "print('Epoch: ', epoch + 1, ', Loss: ', loss, ', Val Loss: ', val_loss)"
   ]
  },
  {
   "cell_type": "markdown",
   "metadata": {},
   "source": [
    "# 4. Predictions"
   ]
  },
  {
   "cell_type": "code",
   "execution_count": 16,
   "metadata": {},
   "outputs": [],
   "source": [
    "preds = []\n",
    "for i in range(Y.shape[0]):\n",
    "    x, y = X[i], Y[i]\n",
    "    prev_s = np.zeros((hidden_dim, 1))\n",
    "    # Forward pass\n",
    "    for t in range(T):\n",
    "        mulu = np.dot(U, x)\n",
    "        mulw = np.dot(W, prev_s)\n",
    "        add = mulw + mulu\n",
    "        s = sigmoid(add)\n",
    "        mulv = np.dot(V, s)\n",
    "        prev_s = s\n",
    "\n",
    "    preds.append(mulv)\n",
    "    \n",
    "preds = np.array(preds)"
   ]
  },
  {
   "cell_type": "code",
   "execution_count": 17,
   "metadata": {},
   "outputs": [
    {
     "data": {
      "image/png": "[encoded data removed]",
      "text/plain": [
       "<Figure size 432x288 with 1 Axes>"
      ]
     },
     "metadata": {
      "needs_background": "light"
     },
     "output_type": "display_data"
    }
   ],
   "source": [
    "plt.plot(preds[:, 0, 0], 'g')\n",
    "plt.plot(Y[:, 0], 'r')\n",
    "plt.show()"
   ]
  },
  {
   "cell_type": "code",
   "execution_count": 18,
   "metadata": {},
   "outputs": [
    {
     "data": {
      "image/png": "[encoded data removed]",
      "text/plain": [
       "<Figure size 432x288 with 1 Axes>"
      ]
     },
     "metadata": {
      "needs_background": "light"
     },
     "output_type": "display_data"
    }
   ],
   "source": [
    "preds = []\n",
    "for i in range(Y_val.shape[0]):\n",
    "    x, y = X_val[i], Y_val[i]\n",
    "    prev_s = np.zeros((hidden_dim, 1))\n",
    "    # For each time step...\n",
    "    for t in range(T):\n",
    "        mulu = np.dot(U, x)\n",
    "        mulw = np.dot(W, prev_s)\n",
    "        add = mulw + mulu\n",
    "        s = sigmoid(add)\n",
    "        mulv = np.dot(V, s)\n",
    "        prev_s = s\n",
    "\n",
    "    preds.append(mulv)\n",
    "    \n",
    "preds = np.array(preds)\n",
    "\n",
    "plt.plot(preds[:, 0, 0], 'g')\n",
    "plt.plot(Y_val[:, 0], 'r')\n",
    "plt.show()"
   ]
  },
  {
   "cell_type": "code",
   "execution_count": null,
   "metadata": {},
   "outputs": [],
   "source": []
  }
 ],
 "metadata": {
  "kernelspec": {
   "display_name": "Python 3",
   "language": "python",
   "name": "python3"
  },
  "language_info": {
   "codemirror_mode": {
    "name": "ipython",
    "version": 3
   },
   "file_extension": ".py",
   "mimetype": "text/x-python",
   "name": "python",
   "nbconvert_exporter": "python",
   "pygments_lexer": "ipython3",
   "version": "3.8.5"
  }
 },
 "nbformat": 4,
 "nbformat_minor": 4
}
