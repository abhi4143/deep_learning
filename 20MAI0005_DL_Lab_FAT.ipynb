{
  "nbformat": 4,
  "nbformat_minor": 0,
  "metadata": {
    "colab": {
      "name": "20MAI0005_DL_Lab_FAT.ipynb",
      "provenance": [],
      "collapsed_sections": [],
      "authorship_tag": "ABX9TyNFmTSn/NEA7Qt2P9tXyuS5",
      "include_colab_link": true
    },
    "kernelspec": {
      "name": "python3",
      "display_name": "Python 3"
    },
    "language_info": {
      "name": "python"
    }
  },
  "cells": [
    {
      "cell_type": "markdown",
      "metadata": {
        "id": "view-in-github",
        "colab_type": "text"
      },
      "source": [
        "<a href=\"https://colab.research.google.com/github/abhi4143/deep_learning/blob/LAB_FAT/20MAI0005_DL_Lab_FAT.ipynb\" target=\"_parent\"><img src=\"https://colab.research.google.com/assets/colab-badge.svg\" alt=\"Open In Colab\"/></a>"
      ]
    },
    {
      "cell_type": "markdown",
      "metadata": {
        "id": "cyTcngyNxw58"
      },
      "source": [
        "#20MAI0005_ABHISHEK_KUMAR"
      ]
    },
    {
      "cell_type": "markdown",
      "metadata": {
        "id": "aqu-fmxDxnMc"
      },
      "source": [
        "#importing keras"
      ]
    },
    {
      "cell_type": "code",
      "metadata": {
        "id": "o2OQh2JMveJH"
      },
      "source": [
        "import keras"
      ],
      "execution_count": 11,
      "outputs": []
    },
    {
      "cell_type": "markdown",
      "metadata": {
        "id": "598AeJsex9g0"
      },
      "source": [
        "#Loading Dataset\n",
        "\n",
        "---\n",
        "\n"
      ]
    },
    {
      "cell_type": "code",
      "metadata": {
        "id": "oMadZb-SvndO"
      },
      "source": [
        "from keras.datasets import mnist\n",
        "(X_train, y_train), (X_test, y_test) = mnist.load_data()"
      ],
      "execution_count": 12,
      "outputs": []
    },
    {
      "cell_type": "markdown",
      "metadata": {
        "id": "54Zqk9qIyYFW"
      },
      "source": [
        "Take only 20 images from the dataset"
      ]
    },
    {
      "cell_type": "code",
      "metadata": {
        "id": "myPTHGSYvqYi"
      },
      "source": [
        "X=X_train[:20]\n",
        "Y=y_train[:20]"
      ],
      "execution_count": 13,
      "outputs": []
    },
    {
      "cell_type": "code",
      "metadata": {
        "colab": {
          "base_uri": "https://localhost:8080/",
          "height": 0
        },
        "id": "JRXKstcgvsgf",
        "outputId": "0f30e7f5-d92a-40c2-a58d-a89551989fc7"
      },
      "source": [
        "from sklearn.utils.multiclass import unique_labels\n",
        "from tensorflow.keras.utils import to_categorical\n",
        "X=X.reshape(20,28,28,1)\n",
        "Y=to_categorical(Y)\n",
        "X.shape"
      ],
      "execution_count": 14,
      "outputs": [
        {
          "output_type": "execute_result",
          "data": {
            "text/plain": [
              "(20, 28, 28, 1)"
            ]
          },
          "metadata": {
            "tags": []
          },
          "execution_count": 14
        }
      ]
    },
    {
      "cell_type": "markdown",
      "metadata": {
        "id": "KdQhkfNQydiD"
      },
      "source": [
        "Import necessary packages to build the CNN model"
      ]
    },
    {
      "cell_type": "code",
      "metadata": {
        "id": "YTM0b0-qvubc"
      },
      "source": [
        "import numpy as np\n",
        "import pandas as pd\n",
        "\n",
        "import keras\n",
        "from keras.models import Sequential\n",
        "from keras.layers import Dense, Activation, Dropout, Flatten, Conv2D, MaxPooling2D"
      ],
      "execution_count": 15,
      "outputs": []
    },
    {
      "cell_type": "markdown",
      "metadata": {
        "id": "FTwbcUz8zDbr"
      },
      "source": [
        "Constructing the Model"
      ]
    },
    {
      "cell_type": "code",
      "metadata": {
        "colab": {
          "base_uri": "https://localhost:8080/",
          "height": 0
        },
        "id": "jTzMrhwnvwWF",
        "outputId": "34fdb698-ed4c-4525-c414-d0ce42dc7672"
      },
      "source": [
        "#Instantiation\n",
        "CNN = Sequential()\n",
        "\n",
        "#1st Convolutional Layer\n",
        "CNN.add(Conv2D(filters=96, input_shape=(28,28,1), kernel_size=(5,5), padding='valid'))\n",
        "CNN.add(Activation('relu'))\n",
        "CNN.add(MaxPooling2D(pool_size=(2,2)))\n",
        "\n",
        "#2nd Convolutional Layer\n",
        "CNN.add(Conv2D(filters=96, kernel_size=(5,5), padding='valid'))\n",
        "CNN.add(Activation('relu'))\n",
        "CNN.add(MaxPooling2D(pool_size=(2,2)))\n",
        "\n",
        "#Passing it to a Fully Connected layer\n",
        "CNN.add(Flatten())\n",
        "\n",
        "#Fully Connected Layer\n",
        "CNN.add(Dense(10))\n",
        "CNN.add(Activation('softmax'))\n",
        "\n",
        "#Model Summary\n",
        "CNN.summary()"
      ],
      "execution_count": 16,
      "outputs": [
        {
          "output_type": "stream",
          "text": [
            "Model: \"sequential_1\"\n",
            "_________________________________________________________________\n",
            "Layer (type)                 Output Shape              Param #   \n",
            "=================================================================\n",
            "conv2d_2 (Conv2D)            (None, 24, 24, 96)        2496      \n",
            "_________________________________________________________________\n",
            "activation_3 (Activation)    (None, 24, 24, 96)        0         \n",
            "_________________________________________________________________\n",
            "max_pooling2d_2 (MaxPooling2 (None, 12, 12, 96)        0         \n",
            "_________________________________________________________________\n",
            "conv2d_3 (Conv2D)            (None, 8, 8, 96)          230496    \n",
            "_________________________________________________________________\n",
            "activation_4 (Activation)    (None, 8, 8, 96)          0         \n",
            "_________________________________________________________________\n",
            "max_pooling2d_3 (MaxPooling2 (None, 4, 4, 96)          0         \n",
            "_________________________________________________________________\n",
            "flatten_1 (Flatten)          (None, 1536)              0         \n",
            "_________________________________________________________________\n",
            "dense_1 (Dense)              (None, 10)                15370     \n",
            "_________________________________________________________________\n",
            "activation_5 (Activation)    (None, 10)                0         \n",
            "=================================================================\n",
            "Total params: 248,362\n",
            "Trainable params: 248,362\n",
            "Non-trainable params: 0\n",
            "_________________________________________________________________\n"
          ],
          "name": "stdout"
        }
      ]
    },
    {
      "cell_type": "markdown",
      "metadata": {
        "id": "frtfAHxrzyYA"
      },
      "source": [
        "Compiling the model"
      ]
    },
    {
      "cell_type": "code",
      "metadata": {
        "id": "xSnk1ZSlvyjK"
      },
      "source": [
        "CNN.compile(loss = keras.losses.categorical_crossentropy, optimizer= 'adam', metrics=['accuracy'])"
      ],
      "execution_count": 17,
      "outputs": []
    },
    {
      "cell_type": "markdown",
      "metadata": {
        "id": "v1HyAUwmz37l"
      },
      "source": [
        "Model Fitting"
      ]
    },
    {
      "cell_type": "code",
      "metadata": {
        "colab": {
          "base_uri": "https://localhost:8080/",
          "height": 0
        },
        "id": "So2yq_P2v1K3",
        "outputId": "9657ffbf-95e8-42f1-eff8-1b9d5651aa38"
      },
      "source": [
        "\n",
        "epochs=3\n",
        "CNN.fit(X,Y, epochs=epochs,\n",
        "verbose=1)"
      ],
      "execution_count": 18,
      "outputs": [
        {
          "output_type": "stream",
          "text": [
            "Epoch 1/3\n",
            "1/1 [==============================] - 1s 875ms/step - loss: 27.6688 - accuracy: 0.1500\n",
            "Epoch 2/3\n",
            "1/1 [==============================] - 0s 68ms/step - loss: 40.5501 - accuracy: 0.3500\n",
            "Epoch 3/3\n",
            "1/1 [==============================] - 0s 62ms/step - loss: 51.3848 - accuracy: 0.4000\n"
          ],
          "name": "stdout"
        },
        {
          "output_type": "execute_result",
          "data": {
            "text/plain": [
              "<keras.callbacks.History at 0x7fc383966810>"
            ]
          },
          "metadata": {
            "tags": []
          },
          "execution_count": 18
        }
      ]
    },
    {
      "cell_type": "markdown",
      "metadata": {
        "id": "GS-1OXhWwRs8"
      },
      "source": [
        "#Evaluating the model"
      ]
    },
    {
      "cell_type": "code",
      "metadata": {
        "colab": {
          "base_uri": "https://localhost:8080/",
          "height": 0
        },
        "id": "Ti9-ovxqv8bp",
        "outputId": "c7cf8290-6e73-4bd7-b9e4-24ba2d153476"
      },
      "source": [
        "CNN.evaluate(X,Y)"
      ],
      "execution_count": 19,
      "outputs": [
        {
          "output_type": "stream",
          "text": [
            "1/1 [==============================] - 0s 337ms/step - loss: 47.0874 - accuracy: 0.4500\n"
          ],
          "name": "stdout"
        },
        {
          "output_type": "execute_result",
          "data": {
            "text/plain": [
              "[47.08742904663086, 0.44999998807907104]"
            ]
          },
          "metadata": {
            "tags": []
          },
          "execution_count": 19
        }
      ]
    }
  ]
}