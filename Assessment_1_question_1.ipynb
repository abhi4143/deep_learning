{
  "nbformat": 4,
  "nbformat_minor": 0,
  "metadata": {
    "colab": {
      "name": "Assessment - 1_question_1.ipynb",
      "provenance": [],
      "collapsed_sections": [],
      "authorship_tag": "ABX9TyOH3coKVw+lsNfNXLGL6uel",
      "include_colab_link": true
    },
    "kernelspec": {
      "name": "python3",
      "display_name": "Python 3"
    }
  },
  "cells": [
    {
      "cell_type": "markdown",
      "metadata": {
        "id": "view-in-github",
        "colab_type": "text"
      },
      "source": [
        "<a href=\"https://colab.research.google.com/github/abhi4143/deep_learning/blob/Assessment---1/Assessment_1_question_1.ipynb\" target=\"_parent\"><img src=\"https://colab.research.google.com/assets/colab-badge.svg\" alt=\"Open In Colab\"/></a>"
      ]
    },
    {
      "cell_type": "code",
      "metadata": {
        "id": "B1uebC1r8fK3"
      },
      "source": [
        "#20MAI0005 \r\n",
        "#ABHISHEK_KUMAR\r\n",
        "#Creating Input matrix\r\n",
        "import numpy as np\r\n"
      ],
      "execution_count": 42,
      "outputs": []
    },
    {
      "cell_type": "code",
      "metadata": {
        "colab": {
          "base_uri": "https://localhost:8080/",
          "height": 0
        },
        "id": "HbOTeNMh8qHt",
        "outputId": "82df8f25-db7b-4211-9ebc-7d09ff1d162f"
      },
      "source": [
        "\r\n",
        "values = ([2,3],[5,6],[8,9])\r\n",
        "print(\"Training input values without Bias\\n\", values)\r\n"
      ],
      "execution_count": 43,
      "outputs": [
        {
          "output_type": "stream",
          "text": [
            "Training input values without Bias\n",
            " ([2, 3], [5, 6], [8, 9])\n"
          ],
          "name": "stdout"
        }
      ]
    },
    {
      "cell_type": "code",
      "metadata": {
        "colab": {
          "base_uri": "https://localhost:8080/",
          "height": 0
        },
        "id": "rx0MTKwI8unj",
        "outputId": "a223dad8-9f11-4b00-dd4f-623c424261e4"
      },
      "source": [
        "#Adding Bias to the input values\r\n",
        "test2 = [[-1]] * len(values)\r\n",
        "values = np.concatenate((test2, values), axis = 1)  \r\n",
        "print(\"Training input values with bias in it\\n\",values)\r\n"
      ],
      "execution_count": 44,
      "outputs": [
        {
          "output_type": "stream",
          "text": [
            "Training input values with bias in it\n",
            " [[-1  2  3]\n",
            " [-1  5  6]\n",
            " [-1  8  9]]\n"
          ],
          "name": "stdout"
        }
      ]
    },
    {
      "cell_type": "code",
      "metadata": {
        "colab": {
          "base_uri": "https://localhost:8080/",
          "height": 0
        },
        "id": "ALYqqA5V81M5",
        "outputId": "31c478ca-eaf4-44ee-f4da-64ba8ae60de0"
      },
      "source": [
        "#Creating random weights\r\n",
        "m=3     #number of elements in each row of inputs\r\n",
        "n=1 \r\n",
        "weights = np.random.rand(m,n)*0.1 - 0.5\r\n",
        "print(\"Initial random weights\\n\",weights)\r\n"
      ],
      "execution_count": 45,
      "outputs": [
        {
          "output_type": "stream",
          "text": [
            "Initial random weights\n",
            " [[-0.47748839]\n",
            " [-0.46242498]\n",
            " [-0.44925722]]\n"
          ],
          "name": "stdout"
        }
      ]
    },
    {
      "cell_type": "code",
      "metadata": {
        "colab": {
          "base_uri": "https://localhost:8080/",
          "height": 0
        },
        "id": "rrrbzXJh84-r",
        "outputId": "772e1a11-2c1a-4d2a-c0d3-eb0f7cc2e80b"
      },
      "source": [
        "\r\n",
        "#Target values Matrix\r\n",
        "final = ([0],[1],[1])\r\n",
        "print(\"Training data target values are\\n\", final)\r\n"
      ],
      "execution_count": 46,
      "outputs": [
        {
          "output_type": "stream",
          "text": [
            "Training data target values are\n",
            " ([0], [1], [1])\n"
          ],
          "name": "stdout"
        }
      ]
    },
    {
      "cell_type": "code",
      "metadata": {
        "id": "DRDmcE5f8817"
      },
      "source": [
        "#Method for updating weights\r\n",
        "def updateWeights(weights, inputs, activation, targets):\r\n",
        "    eta = 0.25\r\n",
        "    weights += eta*np.dot(np.transpose(inputs), targets - activation)\r\n",
        "    return weights\r\n"
      ],
      "execution_count": 47,
      "outputs": []
    },
    {
      "cell_type": "code",
      "metadata": {
        "id": "hYAhRnay9o0C"
      },
      "source": [
        "#Creating Methods for Learning\r\n",
        "def  prediction (inputs, weights, targets):\r\n",
        "    #representing Activation function with 'ack [[]]' variable\r\n",
        "    ack = [[0]] * len(inputs)\r\n",
        "    for i in range(0, len(inputs)):    \r\n",
        "        for j in range(0,len(weights)):\r\n",
        "            ack[i] += inputs[i][j] * weights[j]\r\n",
        "        ack[i] = np.where(ack[i]>0, 1, 0)\r\n",
        "        #checking values with target\r\n",
        "        if(targets[i] != ack[i]):\r\n",
        "            weights = updateWeights(weights, inputs, ack[i], targets)\r\n",
        "        print(ack[i])\r\n",
        "    return weights\r\n"
      ],
      "execution_count": 48,
      "outputs": []
    },
    {
      "cell_type": "code",
      "metadata": {
        "colab": {
          "base_uri": "https://localhost:8080/",
          "height": 0
        },
        "id": "bBYJigWp9wGu",
        "outputId": "1a76a2bb-6249-4f71-ecd2-23753369baa1"
      },
      "source": [
        "#Training our model and extracting stable weights\r\n",
        "iterations = 5\r\n",
        "for temp in range(0, iterations):\r\n",
        "    print(\"\\nIteration \",temp+1,\"\\n\")\r\n",
        "    weights = prediction(values, weights, final)\r\n",
        "    \r\n",
        "print(\"\\nTrained Weights\\n\", weights)\r\n"
      ],
      "execution_count": 49,
      "outputs": [
        {
          "output_type": "stream",
          "text": [
            "\n",
            "Iteration  1 \n",
            "\n",
            "[0]\n",
            "[0]\n",
            "[1]\n",
            "\n",
            "Iteration  2 \n",
            "\n",
            "[1]\n",
            "[1]\n",
            "[1]\n",
            "\n",
            "Iteration  3 \n",
            "\n",
            "[1]\n",
            "[1]\n",
            "[1]\n",
            "\n",
            "Iteration  4 \n",
            "\n",
            "[1]\n",
            "[1]\n",
            "[1]\n",
            "\n",
            "Iteration  5 \n",
            "\n",
            "[1]\n",
            "[1]\n",
            "[1]\n",
            "\n",
            "Trained Weights\n",
            " [[0.02251161]\n",
            " [0.78757502]\n",
            " [0.30074278]]\n"
          ],
          "name": "stdout"
        }
      ]
    },
    {
      "cell_type": "code",
      "metadata": {
        "colab": {
          "base_uri": "https://localhost:8080/"
        },
        "id": "UKBgt8FK92K0",
        "outputId": "69551d0a-c021-4e4f-e7db-0cc354cf0751"
      },
      "source": [
        "#Testing our own data\r\n",
        "def perceptronPredict(weights, newInput):\r\n",
        "    ac = np.dot(newInput, weights)\r\n",
        "    ac = np.where(ac>0, 1, 0)\r\n",
        "    print(ac)\r\n",
        "\r\n",
        "\r\n",
        "newInput = ([-1.0, 7, 8])\r\n",
        "perceptronPredict(weights, newInput)"
      ],
      "execution_count": 53,
      "outputs": [
        {
          "output_type": "stream",
          "text": [
            "[1]\n"
          ],
          "name": "stdout"
        }
      ]
    },
    {
      "cell_type": "markdown",
      "metadata": {
        "id": "x9HNAMSPdva5"
      },
      "source": [
        "https://github.com/abhi4143/deep_learning/tree/Assessment---1\r\n",
        "\r\n",
        "\r\n",
        "\r\n",
        "\r\n"
      ]
    },
    {
      "cell_type": "code",
      "metadata": {
        "id": "unznsNlj928J"
      },
      "source": [
        ""
      ],
      "execution_count": null,
      "outputs": []
    },
    {
      "cell_type": "code",
      "metadata": {
        "id": "MNvUaDEEb1qU"
      },
      "source": [
        ""
      ],
      "execution_count": null,
      "outputs": []
    }
  ]
}